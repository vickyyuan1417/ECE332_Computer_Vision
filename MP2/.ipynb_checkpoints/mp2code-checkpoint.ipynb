{
 "cells": [
  {
   "cell_type": "code",
   "execution_count": 1,
   "id": "0ab7526c",
   "metadata": {},
   "outputs": [],
   "source": [
    "import cv2\n",
    "import numpy as np"
   ]
  },
  {
   "cell_type": "code",
   "execution_count": 9,
   "id": "e245e44c",
   "metadata": {},
   "outputs": [
    {
     "data": {
      "text/plain": [
       "-1"
      ]
     },
     "execution_count": 9,
     "metadata": {},
     "output_type": "execute_result"
    }
   ],
   "source": [
    "# name = 'input/pika.jpg'\n",
    "# name = 'input/gun.bmp'\n",
    "# name = 'input/palm.bmp'\n",
    "\n",
    "SE = [2,2]\n",
    "img = cv2.imread(name, 0)\n",
    "\n",
    "def Erosion(img, SE):\n",
    "    SE = np.ones((SE[0],SE[1]), np.uint8) * 255\n",
    "    h_se, w_se = SE.shape\n",
    "    h_img, w_img = img.shape\n",
    "    check = 0\n",
    "    erosion_img = np.zeros((h_img, w_img), np.uint8)\n",
    "    \n",
    "    for i in range(h_img):\n",
    "        for j in range(w_img):\n",
    "            if img[i][j] == 255:\n",
    "                flg = 1\n",
    "\n",
    "                for y in range(h_se):\n",
    "                    if flg == 0: \n",
    "                        break\n",
    "                    for x in range(w_se):\n",
    "                        if flg == 0: \n",
    "                            break\n",
    "                        my_x = (j - w_se//2) + x\n",
    "                        my_y = (i - h_se//2) + y\n",
    "\n",
    "                        if my_y in range(h_img) and my_x in range(w_img) and img[my_y][my_x] != 255:\n",
    "                            flg = 0\n",
    "                if flg == 1:\n",
    "                    erosion_img[i][j] = 255\n",
    "    return erosion_img\n",
    "\n",
    "erosion_pic = Erosion(img, SE)\n",
    "cv2.imshow('pika_erosion_22', erosion_pic)\n",
    "cv2.imwrite('output/pika_erosion_22.bmp', erosion_pic)\n",
    "cv2.waitKey()"
   ]
  },
  {
   "cell_type": "code",
   "execution_count": 7,
   "id": "5fbdc108",
   "metadata": {},
   "outputs": [
    {
     "data": {
      "text/plain": [
       "-1"
      ]
     },
     "execution_count": 7,
     "metadata": {},
     "output_type": "execute_result"
    }
   ],
   "source": [
    "name = 'input/pika.jpg'\n",
    "# name = 'input/gun.bmp'\n",
    "# name = 'input/palm.bmp'\n",
    "\n",
    "SE = [6,6]\n",
    "img = cv2.imread(name, 0)\n",
    "\n",
    "def Dilation(img, SE):\n",
    "    SE = np.ones((SE[0],SE[1]), np.uint8) * 255\n",
    "    h_se, w_se = SE.shape\n",
    "    h_img, w_img = img.shape\n",
    "    check = 0\n",
    "    dilation_img = np.zeros((h_img, w_img), np.uint8)\n",
    "    \n",
    "    for i in range(h_img):\n",
    "        for j in range(w_img):\n",
    "            if img[i][j] == 255:\n",
    "                for y in range(h_se):\n",
    "                    for x in range(w_se):\n",
    "                        my_x = (j - w_se//2) + x\n",
    "                        my_y = (i - h_se//2) + y\n",
    "\n",
    "                        if my_y in range(h_img) and my_x in range(w_img):\n",
    "                            dilation_img[my_y][my_x] = 255\n",
    "    return dilation_img\n",
    "\n",
    "dilation_pic = Dilation(img, SE)\n",
    "cv2.imshow('pika_dilation_66', dilation_pic)\n",
    "cv2.imwrite('output/pika_dilation_66.bmp', dilation_pic)\n",
    "cv2.waitKey()\n"
   ]
  },
  {
   "cell_type": "code",
   "execution_count": 12,
   "id": "92c3c891",
   "metadata": {},
   "outputs": [
    {
     "data": {
      "text/plain": [
       "-1"
      ]
     },
     "execution_count": 12,
     "metadata": {},
     "output_type": "execute_result"
    }
   ],
   "source": [
    "# name = 'input/pika.jpg'\n",
    "# name = 'input/gun.bmp'\n",
    "# name = 'input/palm.bmp'\n",
    "\n",
    "SE = [3,3]\n",
    "img = cv2.imread(name, 0)\n",
    "\n",
    "def Opening(img, SE):\n",
    "    opening_img_1 = Erosion(img, SE)\n",
    "    opening_img_2 = Dilation(opening_img_1, SE)\n",
    "    return opening_img_2\n",
    "\n",
    "opening_pic = Opening(img, SE)\n",
    "cv2.imshow('palm_opening_33', opening_pic)\n",
    "cv2.imwrite('output/palm_opening_33.bmp', opening_pic)\n",
    "cv2.waitKey()"
   ]
  },
  {
   "cell_type": "code",
   "execution_count": 16,
   "id": "8432b1bc",
   "metadata": {},
   "outputs": [
    {
     "data": {
      "text/plain": [
       "-1"
      ]
     },
     "execution_count": 16,
     "metadata": {},
     "output_type": "execute_result"
    }
   ],
   "source": [
    "# name = 'input/pika.jpg'\n",
    "# name = 'input/gun.bmp'\n",
    "name = 'input/palm.bmp'\n",
    "\n",
    "SE = [3,3]\n",
    "img = cv2.imread(name, 0)\n",
    "\n",
    "def Closing(img, SE):\n",
    "    closing_img_1 = Dilation(img, SE)\n",
    "    closing_img_2 = Erosion(closing_img_1, SE)\n",
    "    return closing_img_2\n",
    "\n",
    "closing_pic = Closing(img, SE)\n",
    "cv2.imshow('palm_closing_33', closing_pic)\n",
    "cv2.imwrite('output/palm_closing_33.bmp', closing_pic)\n",
    "cv2.waitKey()"
   ]
  },
  {
   "cell_type": "code",
   "execution_count": 22,
   "id": "1f9906b6",
   "metadata": {},
   "outputs": [
    {
     "data": {
      "text/plain": [
       "-1"
      ]
     },
     "execution_count": 22,
     "metadata": {},
     "output_type": "execute_result"
    }
   ],
   "source": [
    "name = 'input/pika.jpg'\n",
    "# name = 'input/gun.bmp'\n",
    "# name = 'input/palm.bmp'\n",
    "\n",
    "img = cv2.imread(name, 0)\n",
    "\n",
    "def Boundary(img):\n",
    "    boundary_img = Erosion(img, [3,3])\n",
    "    b = img - boundary_img\n",
    "    return b\n",
    "\n",
    "img = Dilation(img, [6,6])\n",
    "boundary_pic = Boundary(img)\n",
    "cv2.imshow('updated_pika_boundary_33', boundary_pic)\n",
    "cv2.imwrite('output/updated_pika_boundary_33.bmp', boundary_pic)\n",
    "cv2.waitKey()"
   ]
  },
  {
   "cell_type": "code",
   "execution_count": null,
   "id": "bd9645e0",
   "metadata": {},
   "outputs": [],
   "source": []
  }
 ],
 "metadata": {
  "kernelspec": {
   "display_name": "Python 3",
   "language": "python",
   "name": "python3"
  },
  "language_info": {
   "codemirror_mode": {
    "name": "ipython",
    "version": 3
   },
   "file_extension": ".py",
   "mimetype": "text/x-python",
   "name": "python",
   "nbconvert_exporter": "python",
   "pygments_lexer": "ipython3",
   "version": "3.8.8"
  }
 },
 "nbformat": 4,
 "nbformat_minor": 5
}
