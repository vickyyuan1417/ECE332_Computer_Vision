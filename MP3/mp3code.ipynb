{
 "cells": [
  {
   "cell_type": "code",
   "execution_count": 13,
   "id": "f3a2b9ad",
   "metadata": {},
   "outputs": [],
   "source": [
    "import cv2\n",
    "import numpy as np"
   ]
  },
  {
   "cell_type": "code",
   "execution_count": 20,
   "id": "b29536a9",
   "metadata": {},
   "outputs": [
    {
     "data": {
      "text/plain": [
       "-1"
      ]
     },
     "execution_count": 20,
     "metadata": {},
     "output_type": "execute_result"
    }
   ],
   "source": [
    "def Histogramequalization(img):\n",
    "    h, w = img.shape\n",
    "    P1 = [0 for k in range(256)]\n",
    "    P2 = [0 for k in range(256)]\n",
    "    colored_img = img.copy()\n",
    "    \n",
    "    for i in range(h):\n",
    "        for j in range(w):\n",
    "            P1[img[i][j]] = img[i][j]\n",
    "            \n",
    "    P2[0] = P1[0]\n",
    "\n",
    "    for i in range(0,256):\n",
    "        P2[i] = P2[i-1]\n",
    "        P2[i] += P1[i]\n",
    "\n",
    "    for j in range(0,256):\n",
    "        P2[j] = P2[j] / P2[-1]\n",
    "\n",
    "    for i in range(h):\n",
    "        for j in range(w):\n",
    "            color = img[i][j]\n",
    "            colored_img[i][j] = int(P2[color] * 255)\n",
    "\n",
    "    return colored_img\n",
    "\n",
    "\n",
    "img = cv2.imread(\"input/moon.bmp\", 0)\n",
    "Hist_qual_img = Histogramequalization(img)\n",
    "cv2.imshow('Hist_qual_moon', Hist_qual_img)\n",
    "cv2.imwrite('output/Hist_qual_moon.bmp', Hist_qual_img)\n",
    "cv2.waitKey()"
   ]
  },
  {
   "cell_type": "code",
   "execution_count": 26,
   "id": "517213b4",
   "metadata": {},
   "outputs": [
    {
     "data": {
      "text/plain": [
       "-1"
      ]
     },
     "execution_count": 26,
     "metadata": {},
     "output_type": "execute_result"
    }
   ],
   "source": [
    "def Quadraticlighting(self):\n",
    "    copied_img = img.copy()\n",
    "    h,w = img.shape\n",
    "    minimal = 0\n",
    "    maximal = 0\n",
    "    color = 0\n",
    "    qua_array = []\n",
    "    qua_append = []\n",
    "    quad_img = img.copy()\n",
    "    \n",
    "    for i in range(h):\n",
    "        for j in range(w):\n",
    "            qua_array.append(copied_img[i][j])\n",
    "            qua_append.append([i**2, i*j, j**2, i, j, 1])\n",
    "        \n",
    "    qua_array = np.array(qua_array)\n",
    "    qua_append = np.linalg.pinv(qua_append)\n",
    "    \n",
    "    x = np.dot(qua_append, qua_array)\n",
    "\n",
    "    for i in range(h):\n",
    "        for j in range(w):\n",
    "            num = x[0]*(i**2) + x[1]*i*j + x[2]*(j**2) + x[3]*i + x[4]*j + x[5]\n",
    "            if num > 255:\n",
    "                copied_img[i][j] = 255\n",
    "            elif num < 0:\n",
    "                copied_img[i][j] = 0\n",
    "            else:\n",
    "                copied_img[i][j] = num\n",
    "\n",
    "    for i in range(h):\n",
    "        for j in range(w):\n",
    "            minimal = min((int(img[i][j]) - int(copied_img[i][j])), minimal)\n",
    "            maximal = max((int(img[i][j]) - int(copied_img[i][j])), maximal)\n",
    "\n",
    "    average_num = (minimal + maximal) / 2\n",
    "\n",
    "    for i in range(h):\n",
    "        for j in range(w):\n",
    "            color = int(img[i][j]) - int(copied_img[i][j]) + average_num + 128\n",
    "            if color < 0:\n",
    "                quad_img[i][j] = 0\n",
    "            elif color > 255:\n",
    "                quad_img[i][j] = 255\n",
    "            else:\n",
    "                quad_img[i][j] = color\n",
    "\n",
    "    return quad_img\n",
    "    \n",
    "img = cv2.imread(\"input/moon.bmp\", 0)\n",
    "img = Histogramequalization(img)\n",
    "quad_light = Quadraticlighting(img)\n",
    "cv2.imshow('Quadratic lighting moon', quad_light)\n",
    "cv2.imwrite('output/Quadratic lighting moon.bmp', quad_light)\n",
    "cv2.waitKey()"
   ]
  },
  {
   "cell_type": "code",
   "execution_count": 27,
   "id": "4d437ae5",
   "metadata": {},
   "outputs": [
    {
     "data": {
      "text/plain": [
       "-1"
      ]
     },
     "execution_count": 27,
     "metadata": {},
     "output_type": "execute_result"
    }
   ],
   "source": [
    "def Linearlighting(self):\n",
    "    copied_img = img.copy()\n",
    "    h,w = img.shape\n",
    "    minimal = 0\n",
    "    maximal = 0\n",
    "    color = 0\n",
    "    qua_array = []\n",
    "    qua_append = []\n",
    "    quad_img = img.copy()\n",
    "                \n",
    "    for i in range(h):\n",
    "        for j in range(w):\n",
    "            qua_array.append(copied_img[i][j])\n",
    "            qua_append.append([i, j, 1])\n",
    "        \n",
    "    qua_array = np.array(qua_array)\n",
    "    qua_append = np.linalg.pinv(qua_append)\n",
    "    \n",
    "    x = np.dot(qua_append, qua_array)\n",
    "\n",
    "    for i in range(h):\n",
    "        for j in range(w):\n",
    "            num = x[0]*i + x[1]*j +x[2]\n",
    "            if num > 255:\n",
    "                copied_img[i][j] = 255\n",
    "            elif num < 0:\n",
    "                copied_img[i][j] = 0\n",
    "            else:\n",
    "                copied_img[i][j] = num\n",
    "\n",
    "    for i in range(h):\n",
    "        for j in range(w):\n",
    "            minimal = min((int(img[i][j]) - int(copied_img[i][j])), minimal)\n",
    "            maximal = max((int(img[i][j]) - int(copied_img[i][j])), maximal)\n",
    "\n",
    "    average_num = (minimal + maximal) / 2\n",
    "\n",
    "    for i in range(h):\n",
    "        for j in range(w):\n",
    "            color = int(img[i][j]) - int(copied_img[i][j]) + average_num + 128\n",
    "            if color < 0:\n",
    "                quad_img[i][j] = 0\n",
    "            elif color > 255:\n",
    "                quad_img[i][j] = 255\n",
    "            else:\n",
    "                quad_img[i][j] = color\n",
    "\n",
    "    return quad_img\n",
    "    \n",
    "img = cv2.imread(\"input/moon.bmp\", 0)\n",
    "img = Histogramequalization(img)\n",
    "linear_light = Linearlighting(img)\n",
    "cv2.imshow('Linear lighting moon', linear_light)\n",
    "cv2.imwrite('output/Linear lighting moon.bmp', linear_light)\n",
    "cv2.waitKey()"
   ]
  }
 ],
 "metadata": {
  "kernelspec": {
   "display_name": "Python 3",
   "language": "python",
   "name": "python3"
  },
  "language_info": {
   "codemirror_mode": {
    "name": "ipython",
    "version": 3
   },
   "file_extension": ".py",
   "mimetype": "text/x-python",
   "name": "python",
   "nbconvert_exporter": "python",
   "pygments_lexer": "ipython3",
   "version": "3.8.8"
  }
 },
 "nbformat": 4,
 "nbformat_minor": 5
}
